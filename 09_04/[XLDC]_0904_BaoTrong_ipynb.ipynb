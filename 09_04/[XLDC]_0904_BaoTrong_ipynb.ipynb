{
  "nbformat": 4,
  "nbformat_minor": 0,
  "metadata": {
    "colab": {
      "name": "[XLDC]_0904_BaoTrong.ipynb.ipynb",
      "provenance": [],
      "authorship_tag": "ABX9TyMNAMKzmoSLcwh1xqmt8Ztn",
      "include_colab_link": true
    },
    "kernelspec": {
      "name": "python3",
      "display_name": "Python 3"
    },
    "language_info": {
      "name": "python"
    }
  },
  "cells": [
    {
      "cell_type": "markdown",
      "metadata": {
        "id": "view-in-github",
        "colab_type": "text"
      },
      "source": [
        "<a href=\"https://colab.research.google.com/github/VoxTrong/XLDC/blob/main/%5BXLDC%5D_0904_BaoTrong_ipynb.ipynb\" target=\"_parent\"><img src=\"https://colab.research.google.com/assets/colab-badge.svg\" alt=\"Open In Colab\"/></a>"
      ]
    },
    {
      "cell_type": "markdown",
      "source": [
        "# Xử lý đa chiều - Bài 2  \n",
        "\n",
        "1.   19110035 - Lê Hoàng Bảo\n",
        "2.   19110494 - Võ Đức Trọng\n",
        "\n"
      ],
      "metadata": {
        "id": "8_osbaUCv_y5"
      }
    },
    {
      "cell_type": "markdown",
      "source": [
        "## t-SNE"
      ],
      "metadata": {
        "id": "SGmt1bQqsvqy"
      }
    },
    {
      "cell_type": "markdown",
      "source": [
        "1. Tác động của hyperparameters  \n",
        "2. Kích thước các cluster không là vấn đề  \n",
        "3. Khoảng cách các cụm không có nhiều ảnh hưởng  "
      ],
      "metadata": {
        "id": "9q7EPBf24HbW"
      }
    },
    {
      "cell_type": "code",
      "execution_count": null,
      "metadata": {
        "id": "K-h71icLt_m5"
      },
      "outputs": [],
      "source": [
        ""
      ]
    }
  ]
}
